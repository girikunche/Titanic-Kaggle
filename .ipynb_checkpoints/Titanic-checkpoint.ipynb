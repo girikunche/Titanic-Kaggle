{
 "cells": [
  {
   "cell_type": "markdown",
   "id": "26616a96",
   "metadata": {},
   "source": [
    "# Titanic Data Set"
   ]
  },
  {
   "cell_type": "markdown",
   "id": "b778a127",
   "metadata": {},
   "source": [
    "The Challenge\n",
    "The sinking of the Titanic is one of the most infamous shipwrecks in history.\n",
    "\n",
    "On April 15, 1912, during her maiden voyage, the widely considered “unsinkable” RMS Titanic sank after colliding with an iceberg. Unfortunately, there weren’t enough lifeboats for everyone onboard, resulting in the death of 1502 out of 2224 passengers and crew.\n",
    "\n",
    "While there was some element of luck involved in surviving, it seems some groups of people were more likely to survive than others.\n",
    "\n",
    "In this challenge, we ask you to build a predictive model that answers the question: “what sorts of people were more likely to survive?” using passenger data (ie name, age, gender, socio-economic class, etc)."
   ]
  },
  {
   "cell_type": "markdown",
   "id": "98ee01ab",
   "metadata": {},
   "source": [
    "The competition is simple: use machine learning to create a model that predicts which passengers survived the Titanic shipwreck.The data has been split into two groups:\n",
    "\n",
    "-training set (train.csv)\n",
    "-test set (test.csv)\n",
    "\n",
    "**The training set** should be used to build your machine learning models. For the training set, we provide the outcome (also known as the “ground truth”) for each passenger. Your model will be based on “features” like passengers’ gender and class. You can also use feature engineering to create new features.\n",
    "\n",
    "**The test set** should be used to see how well your model performs on unseen data. For the test set, we do not provide the ground truth for each passenger. It is your job to predict these outcomes. For each passenger in the test set, use the model you trained to predict whether or not they survived the sinking of the Titanic.\n",
    "\n",
    "We also include gender_submission.csv, a set of predictions that assume all and only female passengers survive, as an example of what a submission file should look like."
   ]
  },
  {
   "cell_type": "markdown",
   "id": "7eb36ee0",
   "metadata": {},
   "source": [
    "## Data Dictionary"
   ]
  },
  {
   "cell_type": "markdown",
   "id": "bd16be2b",
   "metadata": {},
   "source": [
    "| Variable | Definiition | Key |\n",
    "| --- | --- | --- |\n",
    "| survival | Survival |0= No, 1= Yes |\n",
    "| pclass | Ticket class |1=1st, 2= 2nd , 3=3rd |\n",
    "| sex | Sex |\n",
    "| Age | Age in years |\n",
    "| Sibsp | # of s1blings, spouses aboard the Titanic |\n",
    "| parch | # of parents/children aboard the Titanic |\n",
    "| ticket | Ticket number |\n",
    "| fare | Fare |\n",
    "| cabin | Cabin number |\n",
    "| Embarked | Port of Embarkation|C= Cherbourg,Q=Queenstown,S=Southampton|\n"
   ]
  },
  {
   "cell_type": "code",
   "execution_count": 82,
   "id": "30af2dff",
   "metadata": {},
   "outputs": [],
   "source": [
    "import warnings\n",
    "warnings.filterwarnings(\"ignore\")\n",
    "import numpy as np   \n",
    "import pandas as pd    \n",
    "import seaborn as sns\n",
    "import matplotlib.pyplot as plt\n",
    "\n",
    "from sklearn.tree import DecisionTreeRegressor\n",
    "from sklearn.ensemble import BaggingRegressor,RandomForestRegressor, GradientBoostingRegressor, AdaBoostRegressor, StackingRegressor\n",
    "from sklearn.ensemble import BaggingClassifier\n",
    "from sklearn.ensemble import AdaBoostClassifier, GradientBoostingClassifier\n",
    "from xgboost import XGBClassifier\n",
    "from sklearn.metrics import accuracy_score, log_loss\n",
    "from sklearn.ensemble import RandomForestClassifier\n",
    "from sklearn.model_selection import train_test_split, GridSearchCV\n",
    "from sklearn.model_selection import cross_validate , cross_val_score ,cross_val_predict\n",
    "from sklearn.metrics import confusion_matrix\n",
    "from sklearn import metrics\n",
    "from sklearn import tree\n"
   ]
  },
  {
   "cell_type": "code",
   "execution_count": 3,
   "id": "1279f6af",
   "metadata": {},
   "outputs": [],
   "source": [
    "train_data=pd.read_csv('train.csv')\n",
    "test_data=pd.read_csv('test.csv')"
   ]
  },
  {
   "cell_type": "code",
   "execution_count": 4,
   "id": "e9be37bf",
   "metadata": {},
   "outputs": [
    {
     "data": {
      "text/html": [
       "<div>\n",
       "<style scoped>\n",
       "    .dataframe tbody tr th:only-of-type {\n",
       "        vertical-align: middle;\n",
       "    }\n",
       "\n",
       "    .dataframe tbody tr th {\n",
       "        vertical-align: top;\n",
       "    }\n",
       "\n",
       "    .dataframe thead th {\n",
       "        text-align: right;\n",
       "    }\n",
       "</style>\n",
       "<table border=\"1\" class=\"dataframe\">\n",
       "  <thead>\n",
       "    <tr style=\"text-align: right;\">\n",
       "      <th></th>\n",
       "      <th>PassengerId</th>\n",
       "      <th>Survived</th>\n",
       "      <th>Pclass</th>\n",
       "      <th>Name</th>\n",
       "      <th>Sex</th>\n",
       "      <th>Age</th>\n",
       "      <th>SibSp</th>\n",
       "      <th>Parch</th>\n",
       "      <th>Ticket</th>\n",
       "      <th>Fare</th>\n",
       "      <th>Cabin</th>\n",
       "      <th>Embarked</th>\n",
       "    </tr>\n",
       "  </thead>\n",
       "  <tbody>\n",
       "    <tr>\n",
       "      <th>0</th>\n",
       "      <td>1</td>\n",
       "      <td>0</td>\n",
       "      <td>3</td>\n",
       "      <td>Braund, Mr. Owen Harris</td>\n",
       "      <td>male</td>\n",
       "      <td>22.0</td>\n",
       "      <td>1</td>\n",
       "      <td>0</td>\n",
       "      <td>A/5 21171</td>\n",
       "      <td>7.2500</td>\n",
       "      <td>NaN</td>\n",
       "      <td>S</td>\n",
       "    </tr>\n",
       "    <tr>\n",
       "      <th>1</th>\n",
       "      <td>2</td>\n",
       "      <td>1</td>\n",
       "      <td>1</td>\n",
       "      <td>Cumings, Mrs. John Bradley (Florence Briggs Th...</td>\n",
       "      <td>female</td>\n",
       "      <td>38.0</td>\n",
       "      <td>1</td>\n",
       "      <td>0</td>\n",
       "      <td>PC 17599</td>\n",
       "      <td>71.2833</td>\n",
       "      <td>C85</td>\n",
       "      <td>C</td>\n",
       "    </tr>\n",
       "    <tr>\n",
       "      <th>2</th>\n",
       "      <td>3</td>\n",
       "      <td>1</td>\n",
       "      <td>3</td>\n",
       "      <td>Heikkinen, Miss. Laina</td>\n",
       "      <td>female</td>\n",
       "      <td>26.0</td>\n",
       "      <td>0</td>\n",
       "      <td>0</td>\n",
       "      <td>STON/O2. 3101282</td>\n",
       "      <td>7.9250</td>\n",
       "      <td>NaN</td>\n",
       "      <td>S</td>\n",
       "    </tr>\n",
       "    <tr>\n",
       "      <th>3</th>\n",
       "      <td>4</td>\n",
       "      <td>1</td>\n",
       "      <td>1</td>\n",
       "      <td>Futrelle, Mrs. Jacques Heath (Lily May Peel)</td>\n",
       "      <td>female</td>\n",
       "      <td>35.0</td>\n",
       "      <td>1</td>\n",
       "      <td>0</td>\n",
       "      <td>113803</td>\n",
       "      <td>53.1000</td>\n",
       "      <td>C123</td>\n",
       "      <td>S</td>\n",
       "    </tr>\n",
       "    <tr>\n",
       "      <th>4</th>\n",
       "      <td>5</td>\n",
       "      <td>0</td>\n",
       "      <td>3</td>\n",
       "      <td>Allen, Mr. William Henry</td>\n",
       "      <td>male</td>\n",
       "      <td>35.0</td>\n",
       "      <td>0</td>\n",
       "      <td>0</td>\n",
       "      <td>373450</td>\n",
       "      <td>8.0500</td>\n",
       "      <td>NaN</td>\n",
       "      <td>S</td>\n",
       "    </tr>\n",
       "  </tbody>\n",
       "</table>\n",
       "</div>"
      ],
      "text/plain": [
       "   PassengerId  Survived  Pclass  \\\n",
       "0            1         0       3   \n",
       "1            2         1       1   \n",
       "2            3         1       3   \n",
       "3            4         1       1   \n",
       "4            5         0       3   \n",
       "\n",
       "                                                Name     Sex   Age  SibSp  \\\n",
       "0                            Braund, Mr. Owen Harris    male  22.0      1   \n",
       "1  Cumings, Mrs. John Bradley (Florence Briggs Th...  female  38.0      1   \n",
       "2                             Heikkinen, Miss. Laina  female  26.0      0   \n",
       "3       Futrelle, Mrs. Jacques Heath (Lily May Peel)  female  35.0      1   \n",
       "4                           Allen, Mr. William Henry    male  35.0      0   \n",
       "\n",
       "   Parch            Ticket     Fare Cabin Embarked  \n",
       "0      0         A/5 21171   7.2500   NaN        S  \n",
       "1      0          PC 17599  71.2833   C85        C  \n",
       "2      0  STON/O2. 3101282   7.9250   NaN        S  \n",
       "3      0            113803  53.1000  C123        S  \n",
       "4      0            373450   8.0500   NaN        S  "
      ]
     },
     "execution_count": 4,
     "metadata": {},
     "output_type": "execute_result"
    }
   ],
   "source": [
    "train_data.head()"
   ]
  },
  {
   "cell_type": "code",
   "execution_count": 5,
   "id": "282bcb5c",
   "metadata": {},
   "outputs": [
    {
     "data": {
      "text/plain": [
       "((891, 12), (418, 11))"
      ]
     },
     "execution_count": 5,
     "metadata": {},
     "output_type": "execute_result"
    }
   ],
   "source": [
    "train_data.shape, test_data.shape"
   ]
  },
  {
   "cell_type": "code",
   "execution_count": 6,
   "id": "cb09b619",
   "metadata": {},
   "outputs": [
    {
     "data": {
      "image/png": "[encoded data removed]",
      "text/plain": [
       "<Figure size 864x576 with 2 Axes>"
      ]
     },
     "metadata": {
      "needs_background": "light"
     },
     "output_type": "display_data"
    }
   ],
   "source": [
    "# Check missing values in training data  via heatmap\n",
    "plt.figure(figsize=(12, 8))\n",
    "sns.heatmap(train_data.isna())\n",
    "plt.show()"
   ]
  },
  {
   "cell_type": "markdown",
   "id": "16d83bbb",
   "metadata": {},
   "source": [
    "Training Data\n",
    "- There are blanks in Age Column\n",
    "- Cabin has 204 entries\n",
    "- 2 missing entries in Embarked column\n",
    "\n",
    "Test Data\n",
    "- There are blanks in Age Column\n",
    "- Cabin has 91 entries\n",
    "\n"
   ]
  },
  {
   "cell_type": "code",
   "execution_count": 7,
   "id": "80a8d45e",
   "metadata": {},
   "outputs": [
    {
     "data": {
      "text/plain": [
       "PassengerId    891\n",
       "Survived         2\n",
       "Pclass           3\n",
       "Name           891\n",
       "Sex              2\n",
       "Age             88\n",
       "SibSp            7\n",
       "Parch            7\n",
       "Ticket         681\n",
       "Fare           248\n",
       "Cabin          147\n",
       "Embarked         3\n",
       "dtype: int64"
      ]
     },
     "execution_count": 7,
     "metadata": {},
     "output_type": "execute_result"
    }
   ],
   "source": [
    "train_data.nunique()\n"
   ]
  },
  {
   "cell_type": "markdown",
   "id": "94e8e4d3",
   "metadata": {},
   "source": [
    "- Names are all unique. Not a valuable feature for the algorithm.\n",
    "- There are some missing values for Cabin. This feature can be dropped as there are lot of missing values.\n",
    "- Ticket is also not useful for analysis. \n"
   ]
  },
  {
   "cell_type": "code",
   "execution_count": 8,
   "id": "df28012a",
   "metadata": {},
   "outputs": [
    {
     "data": {
      "text/html": [
       "<div>\n",
       "<style scoped>\n",
       "    .dataframe tbody tr th:only-of-type {\n",
       "        vertical-align: middle;\n",
       "    }\n",
       "\n",
       "    .dataframe tbody tr th {\n",
       "        vertical-align: top;\n",
       "    }\n",
       "\n",
       "    .dataframe thead th {\n",
       "        text-align: right;\n",
       "    }\n",
       "</style>\n",
       "<table border=\"1\" class=\"dataframe\">\n",
       "  <thead>\n",
       "    <tr style=\"text-align: right;\">\n",
       "      <th></th>\n",
       "      <th>PassengerId</th>\n",
       "      <th>Survived</th>\n",
       "      <th>Pclass</th>\n",
       "      <th>Age</th>\n",
       "      <th>SibSp</th>\n",
       "      <th>Parch</th>\n",
       "      <th>Fare</th>\n",
       "    </tr>\n",
       "  </thead>\n",
       "  <tbody>\n",
       "    <tr>\n",
       "      <th>count</th>\n",
       "      <td>891.000000</td>\n",
       "      <td>891.000000</td>\n",
       "      <td>891.000000</td>\n",
       "      <td>714.000000</td>\n",
       "      <td>891.000000</td>\n",
       "      <td>891.000000</td>\n",
       "      <td>891.000000</td>\n",
       "    </tr>\n",
       "    <tr>\n",
       "      <th>mean</th>\n",
       "      <td>446.000000</td>\n",
       "      <td>0.383838</td>\n",
       "      <td>2.308642</td>\n",
       "      <td>29.699118</td>\n",
       "      <td>0.523008</td>\n",
       "      <td>0.381594</td>\n",
       "      <td>32.204208</td>\n",
       "    </tr>\n",
       "    <tr>\n",
       "      <th>std</th>\n",
       "      <td>257.353842</td>\n",
       "      <td>0.486592</td>\n",
       "      <td>0.836071</td>\n",
       "      <td>14.526497</td>\n",
       "      <td>1.102743</td>\n",
       "      <td>0.806057</td>\n",
       "      <td>49.693429</td>\n",
       "    </tr>\n",
       "    <tr>\n",
       "      <th>min</th>\n",
       "      <td>1.000000</td>\n",
       "      <td>0.000000</td>\n",
       "      <td>1.000000</td>\n",
       "      <td>0.420000</td>\n",
       "      <td>0.000000</td>\n",
       "      <td>0.000000</td>\n",
       "      <td>0.000000</td>\n",
       "    </tr>\n",
       "    <tr>\n",
       "      <th>25%</th>\n",
       "      <td>223.500000</td>\n",
       "      <td>0.000000</td>\n",
       "      <td>2.000000</td>\n",
       "      <td>20.125000</td>\n",
       "      <td>0.000000</td>\n",
       "      <td>0.000000</td>\n",
       "      <td>7.910400</td>\n",
       "    </tr>\n",
       "    <tr>\n",
       "      <th>50%</th>\n",
       "      <td>446.000000</td>\n",
       "      <td>0.000000</td>\n",
       "      <td>3.000000</td>\n",
       "      <td>28.000000</td>\n",
       "      <td>0.000000</td>\n",
       "      <td>0.000000</td>\n",
       "      <td>14.454200</td>\n",
       "    </tr>\n",
       "    <tr>\n",
       "      <th>75%</th>\n",
       "      <td>668.500000</td>\n",
       "      <td>1.000000</td>\n",
       "      <td>3.000000</td>\n",
       "      <td>38.000000</td>\n",
       "      <td>1.000000</td>\n",
       "      <td>0.000000</td>\n",
       "      <td>31.000000</td>\n",
       "    </tr>\n",
       "    <tr>\n",
       "      <th>max</th>\n",
       "      <td>891.000000</td>\n",
       "      <td>1.000000</td>\n",
       "      <td>3.000000</td>\n",
       "      <td>80.000000</td>\n",
       "      <td>8.000000</td>\n",
       "      <td>6.000000</td>\n",
       "      <td>512.329200</td>\n",
       "    </tr>\n",
       "  </tbody>\n",
       "</table>\n",
       "</div>"
      ],
      "text/plain": [
       "       PassengerId    Survived      Pclass         Age       SibSp  \\\n",
       "count   891.000000  891.000000  891.000000  714.000000  891.000000   \n",
       "mean    446.000000    0.383838    2.308642   29.699118    0.523008   \n",
       "std     257.353842    0.486592    0.836071   14.526497    1.102743   \n",
       "min       1.000000    0.000000    1.000000    0.420000    0.000000   \n",
       "25%     223.500000    0.000000    2.000000   20.125000    0.000000   \n",
       "50%     446.000000    0.000000    3.000000   28.000000    0.000000   \n",
       "75%     668.500000    1.000000    3.000000   38.000000    1.000000   \n",
       "max     891.000000    1.000000    3.000000   80.000000    8.000000   \n",
       "\n",
       "            Parch        Fare  \n",
       "count  891.000000  891.000000  \n",
       "mean     0.381594   32.204208  \n",
       "std      0.806057   49.693429  \n",
       "min      0.000000    0.000000  \n",
       "25%      0.000000    7.910400  \n",
       "50%      0.000000   14.454200  \n",
       "75%      0.000000   31.000000  \n",
       "max      6.000000  512.329200  "
      ]
     },
     "execution_count": 8,
     "metadata": {},
     "output_type": "execute_result"
    }
   ],
   "source": [
    "train_data.describe()"
   ]
  },
  {
   "cell_type": "markdown",
   "id": "66ec0768",
   "metadata": {},
   "source": [
    "- 38% of passengers in training set survived the accident.\n",
    "- More than 50% of passengers have more than 29yrs of age.\n"
   ]
  },
  {
   "cell_type": "markdown",
   "id": "b33079df-eaed-4380-94ed-06b54484d675",
   "metadata": {},
   "source": [
    "- Test data has 1 row with null value in Fare. Lets drop this row."
   ]
  },
  {
   "cell_type": "code",
   "execution_count": 9,
   "id": "494e5517-2c48-4e2d-bf5f-b159ceceb2e9",
   "metadata": {},
   "outputs": [
    {
     "name": "stdout",
     "output_type": "stream",
     "text": [
      "<class 'pandas.core.frame.DataFrame'>\n",
      "RangeIndex: 418 entries, 0 to 417\n",
      "Data columns (total 11 columns):\n",
      " #   Column       Non-Null Count  Dtype  \n",
      "---  ------       --------------  -----  \n",
      " 0   PassengerId  418 non-null    int64  \n",
      " 1   Pclass       418 non-null    int64  \n",
      " 2   Name         418 non-null    object \n",
      " 3   Sex          418 non-null    object \n",
      " 4   Age          332 non-null    float64\n",
      " 5   SibSp        418 non-null    int64  \n",
      " 6   Parch        418 non-null    int64  \n",
      " 7   Ticket       418 non-null    object \n",
      " 8   Fare         417 non-null    float64\n",
      " 9   Cabin        91 non-null     object \n",
      " 10  Embarked     418 non-null    object \n",
      "dtypes: float64(2), int64(4), object(5)\n",
      "memory usage: 36.0+ KB\n"
     ]
    }
   ],
   "source": [
    "test_data.info()"
   ]
  },
  {
   "cell_type": "markdown",
   "id": "ccc3fb78",
   "metadata": {},
   "source": [
    "### Dropping Columns"
   ]
  },
  {
   "cell_type": "code",
   "execution_count": 10,
   "id": "3b871c9c",
   "metadata": {},
   "outputs": [],
   "source": [
    "# drop unwanted columns\n",
    "train_data.drop(['PassengerId','Ticket', 'Cabin','Name','Embarked','Fare'], axis=1, inplace=True)\n",
    "test_data.drop(['Ticket', 'Cabin','Name','Embarked','Fare'], axis=1, inplace=True)\n",
    "\n"
   ]
  },
  {
   "cell_type": "markdown",
   "id": "6d635d03",
   "metadata": {},
   "source": [
    "### Feature Mapping"
   ]
  },
  {
   "cell_type": "code",
   "execution_count": 11,
   "id": "a5d30628",
   "metadata": {},
   "outputs": [],
   "source": [
    "train_data['Sex'] = train_data['Sex'].map({'female':0,'male':1})\n",
    "test_data['Sex'] = test_data['Sex'].map({'female':0,'male':1})\n",
    "\n"
   ]
  },
  {
   "cell_type": "markdown",
   "id": "2a0e0707-ed5a-4532-ab7c-473d41b29065",
   "metadata": {},
   "source": [
    "Age is one of the important features in the dataset. We can't just delete or drop Age column as this may be important impact on if the passenger survived or not."
   ]
  },
  {
   "cell_type": "code",
   "execution_count": 12,
   "id": "1cfe6317-c68c-4569-98f4-657e4421098c",
   "metadata": {},
   "outputs": [
    {
     "data": {
      "text/plain": [
       "Pclass  Sex  Survived\n",
       "1       0    0           25.666667\n",
       "             1           34.939024\n",
       "        1    0           44.581967\n",
       "             1           36.248000\n",
       "2       0    0           36.000000\n",
       "             1           28.080882\n",
       "        1    0           33.369048\n",
       "             1           16.022000\n",
       "3       0    0           23.818182\n",
       "             1           19.329787\n",
       "        1    0           27.255814\n",
       "             1           22.274211\n",
       "Name: Age, dtype: float64"
      ]
     },
     "execution_count": 12,
     "metadata": {},
     "output_type": "execute_result"
    }
   ],
   "source": [
    "train_data.groupby(['Pclass','Sex','Survived'])['Age'].mean()"
   ]
  },
  {
   "cell_type": "code",
   "execution_count": 13,
   "id": "0bb2cdf6-8743-431f-b58a-e839a547d1a0",
   "metadata": {},
   "outputs": [],
   "source": [
    "#Fill mean of age for null values\n",
    "train_data['Age']=train_data['Age'].fillna(train_data.groupby(['Pclass', 'Sex'])['Age'].transform('mean'))\n",
    "test_data['Age']=test_data['Age'].fillna(test_data.groupby(['Pclass', 'Sex'])['Age'].transform('mean'))"
   ]
  },
  {
   "cell_type": "code",
   "execution_count": 14,
   "id": "1199b44a-0ffe-4c7a-890b-91f43fbd5bd7",
   "metadata": {},
   "outputs": [
    {
     "data": {
      "text/plain": [
       "Survived    0\n",
       "Pclass      0\n",
       "Sex         0\n",
       "Age         0\n",
       "SibSp       0\n",
       "Parch       0\n",
       "dtype: int64"
      ]
     },
     "execution_count": 14,
     "metadata": {},
     "output_type": "execute_result"
    }
   ],
   "source": [
    "# Check missing values via heatmap\n",
    "#plt.figure(figsize=(12, 8))\n",
    "#sns.heatmap(train_data.isna())\n",
    "#plt.show()\n",
    "train_data.isnull().sum()"
   ]
  },
  {
   "cell_type": "code",
   "execution_count": 15,
   "id": "bc546f86",
   "metadata": {},
   "outputs": [
    {
     "data": {
      "text/plain": [
       "Text(0.5, 1.0, 'Survived vs Sex')"
      ]
     },
     "execution_count": 15,
     "metadata": {},
     "output_type": "execute_result"
    },
    {
     "data": {
      "image/png": "[encoded data removed]",
      "text/plain": [
       "<Figure size 1080x360 with 4 Axes>"
      ]
     },
     "metadata": {
      "needs_background": "light"
     },
     "output_type": "display_data"
    }
   ],
   "source": [
    "fig, axes = plt.subplots(1, 4, figsize=(15, 5), sharey=True)\n",
    "sns.barplot(ax=axes[0],x='Pclass', y='Survived', data=train_data)\n",
    "axes[0].set_title('Survived vs Pclass')\n",
    "\n",
    "sns.barplot(ax=axes[1],x='SibSp', y='Survived', data=train_data)\n",
    "axes[1].set_title('Survived vs SibSp')\n",
    "\n",
    "sns.barplot(ax=axes[2],x='Parch', y='Survived', data=train_data)\n",
    "axes[2].set_title('Survived vs Parch')\n",
    "\n",
    "sns.barplot(ax=axes[3],x='Sex', y='Survived', data=train_data)\n",
    "axes[3].set_title('Survived vs Sex')\n"
   ]
  },
  {
   "cell_type": "markdown",
   "id": "53704b0c",
   "metadata": {},
   "source": [
    "- Females have high probability of survival compared to Men\n",
    "- Passengers in first class (Pclass = 1) have higher chance of survival compared to other classes\n",
    "- There is a high chance of surival of family more than 2."
   ]
  },
  {
   "cell_type": "code",
   "execution_count": 16,
   "id": "b14b0239",
   "metadata": {},
   "outputs": [],
   "source": [
    "# However we want to see correlation in graphical representation so below is function for that\n",
    "def plot_corr(data, size=11):\n",
    "    corr = data.corr()\n",
    "    fig, ax = plt.subplots(figsize=(size, size))\n",
    "    ax.matshow(corr)\n",
    "    plt.xticks(range(len(corr.columns)), corr.columns)\n",
    "    plt.yticks(range(len(corr.columns)), corr.columns)\n",
    "    for (i, j), z in np.ndenumerate(corr):\n",
    "        ax.text(j, i, '{:0.1f}'.format(z), ha='center', va='center')\n"
   ]
  },
  {
   "cell_type": "code",
   "execution_count": 17,
   "id": "86ac74b5",
   "metadata": {},
   "outputs": [
    {
     "data": {
      "image/png": "[encoded data removed]",
      "text/plain": [
       "<Figure size 792x792 with 1 Axes>"
      ]
     },
     "metadata": {
      "needs_background": "light"
     },
     "output_type": "display_data"
    }
   ],
   "source": [
    "plot_corr(train_data)"
   ]
  },
  {
   "cell_type": "markdown",
   "id": "cce4c275-9bc3-4a81-8e24-55b0ae90352e",
   "metadata": {},
   "source": [
    "## Building Machine Learning Models"
   ]
  },
  {
   "cell_type": "code",
   "execution_count": 51,
   "id": "5d154445-d10b-4e4a-ae52-d374a5b19ebd",
   "metadata": {},
   "outputs": [],
   "source": [
    "y=train_data['Survived']\n",
    "X=train_data.drop(['Survived'],axis=1)\n",
    "\n",
    "X_tst = test_data.drop(['PassengerId'],axis=1)"
   ]
  },
  {
   "cell_type": "code",
   "execution_count": 52,
   "id": "a3c10956-46af-4ac4-b43a-573a66a05771",
   "metadata": {},
   "outputs": [],
   "source": [
    "from sklearn.tree import DecisionTreeClassifier\n",
    "from sklearn.model_selection import train_test_split\n",
    "from sklearn.metrics import accuracy_score, precision_score, confusion_matrix, ConfusionMatrixDisplay\n",
    "\n",
    "X_train, X_test, y_train, y_test = train_test_split(X, y, test_size=0.33, random_state=42)\n"
   ]
  },
  {
   "cell_type": "code",
   "execution_count": 53,
   "id": "b47df2cf-1d90-4c57-93c5-7031f200c4d0",
   "metadata": {},
   "outputs": [],
   "source": [
    "##  Function to calculate r2_score and RMSE on train and test data\n",
    "def get_model_score(model, flag=True):\n",
    "    '''\n",
    "    model : classifier to predict values of X\n",
    "\n",
    "    '''\n",
    "    # defining an empty list to store train and test results\n",
    "    score_list=[] \n",
    "    \n",
    "    pred_train = model.predict(X_train)\n",
    "    pred_test = model.predict(X_test)\n",
    "    \n",
    "    train_r2=metrics.r2_score(y_train,pred_train)\n",
    "    test_r2=metrics.r2_score(y_test,pred_test)\n",
    "    train_rmse=np.sqrt(metrics.mean_squared_error(y_train,pred_train))\n",
    "    test_rmse=np.sqrt(metrics.mean_squared_error(y_test,pred_test))\n",
    "    \n",
    "    #Adding all scores in the list\n",
    "    score_list.extend((train_r2,test_r2,train_rmse,test_rmse))\n",
    "    \n",
    "    # If the flag is set to True then only the following print statements will be dispayed, the default value is True\n",
    "    if flag==True: \n",
    "        print(\"R-sqaure on training set : \",metrics.r2_score(y_train,pred_train))\n",
    "        print(\"R-square on test set : \",metrics.r2_score(y_test,pred_test))\n",
    "        print(\"RMSE on training set : \",np.sqrt(metrics.mean_squared_error(y_train,pred_train)))\n",
    "        print(\"RMSE on test set : \",np.sqrt(metrics.mean_squared_error(y_test,pred_test)))\n",
    "    \n",
    "    # returning the list with train and test scores\n",
    "    return score_list"
   ]
  },
  {
   "cell_type": "code",
   "execution_count": 54,
   "id": "540dbdce-e79e-4414-8679-fb6b88fd4355",
   "metadata": {},
   "outputs": [],
   "source": [
    "##  Function to calculate accuracy score\n",
    "def get_accuracy_score(model,flag=True):\n",
    "    '''\n",
    "    model : classifier to predict values of X\n",
    "\n",
    "    '''\n",
    "    c = [] # defining an empty list to store train and test results\n",
    "    train_acc = model.score(X_train,y_train)\n",
    "    test_acc = model.score(X_test,y_test)\n",
    "    c.append(train_acc) # adding train accuracy to list\n",
    "    c.append(test_acc) # adding test accuracy to list\n",
    "    if flag == True: # If the flag is set to True then only the following print statements will be dispayed\n",
    "        print(\"Accuracy on training set : \",model.score(X_train,y_train))\n",
    "        print(\"Accuracy on test set : \",model.score(X_test,y_test))\n",
    "    \n",
    "    return c # returning the list with train and test scores"
   ]
  },
  {
   "cell_type": "code",
   "execution_count": 55,
   "id": "bc72de88-2bd1-4039-a73b-0a22ae246216",
   "metadata": {},
   "outputs": [],
   "source": [
    "def make_confusion_matrix(model,y_actual,labels=[1, 0]):\n",
    "    '''\n",
    "    model : classifier to predict values of X\n",
    "    y_actual : ground truth  \n",
    "    \n",
    "    '''\n",
    "    y_predict = model.predict(X_test)\n",
    "    cm=metrics.confusion_matrix( y_actual, y_predict, labels=[0, 1])\n",
    "    df_cm = pd.DataFrame(cm, index = [i for i in [\"Actual - No\",\"Actual - Yes\"]],\n",
    "                  columns = [i for i in ['Predicted - No','Predicted - Yes']])\n",
    "    group_counts = [\"{0:0.0f}\".format(value) for value in\n",
    "                cm.flatten()]\n",
    "    group_percentages = [\"{0:.2%}\".format(value) for value in\n",
    "                         cm.flatten()/np.sum(cm)]\n",
    "    labels = [f\"{v1}\\n{v2}\" for v1, v2 in\n",
    "              zip(group_counts,group_percentages)]\n",
    "    labels = np.asarray(labels).reshape(2,2)\n",
    "    plt.figure(figsize = (10,7))\n",
    "    sns.heatmap(df_cm, annot=labels,fmt='')\n",
    "    plt.ylabel('True label')\n",
    "    plt.xlabel('Predicted label')"
   ]
  },
  {
   "cell_type": "markdown",
   "id": "3511ece2-b445-4ae0-998c-0e902bb9795a",
   "metadata": {},
   "source": [
    "## Building Decision Tree Model"
   ]
  },
  {
   "cell_type": "code",
   "execution_count": 56,
   "id": "f06a4f5c-ff89-4104-a685-e92ada6e1152",
   "metadata": {},
   "outputs": [
    {
     "data": {
      "text/plain": [
       "DecisionTreeRegressor(random_state=1)"
      ]
     },
     "execution_count": 56,
     "metadata": {},
     "output_type": "execute_result"
    }
   ],
   "source": [
    "dtree=DecisionTreeRegressor(random_state=1)\n",
    "dtree.fit(X_train,y_train)"
   ]
  },
  {
   "cell_type": "markdown",
   "id": "23deb7a1-e2e5-48f6-8162-b6d341062362",
   "metadata": {},
   "source": [
    "### Scoring Decision Tree"
   ]
  },
  {
   "cell_type": "code",
   "execution_count": 57,
   "id": "452919a4-b118-476a-ac6b-485a3f89aed0",
   "metadata": {},
   "outputs": [
    {
     "name": "stdout",
     "output_type": "stream",
     "text": [
      "R-sqaure on training set :  0.7807749465188911\n",
      "R-square on test set :  0.08116901988256653\n",
      "RMSE on training set :  0.22636596050061955\n",
      "RMSE on test set :  0.47087479734741944\n"
     ]
    }
   ],
   "source": [
    "dtree_score=get_model_score(dtree)"
   ]
  },
  {
   "cell_type": "code",
   "execution_count": 101,
   "id": "e088627c-d04e-4e31-b40a-6da236c74d56",
   "metadata": {},
   "outputs": [
    {
     "data": {
      "text/plain": [
       "DecisionTreeRegressor(max_depth=8, min_impurity_decrease=0.001,\n",
       "                      min_samples_leaf=3, random_state=1)"
      ]
     },
     "execution_count": 101,
     "metadata": {},
     "output_type": "execute_result"
    }
   ],
   "source": [
    "# Choose the type of classifier. \n",
    "dtree_tuned = DecisionTreeRegressor(random_state=1)\n",
    "\n",
    "# Grid of parameters to choose from\n",
    "parameters = {'max_depth': list(np.arange(2,20)) + [None], \n",
    "              'min_samples_leaf': [1, 3, 5, 7, 10],\n",
    "              'max_leaf_nodes' : [2, 3, 5, 10, 15] + [None],\n",
    "              'min_impurity_decrease': [0.001, 0.01, 0.1, 0.0]\n",
    "             }\n",
    "\n",
    "# Type of scoring used to compare parameter combinations\n",
    "scorer = metrics.make_scorer(metrics.r2_score)\n",
    "\n",
    "# Run the grid search\n",
    "grid_obj = GridSearchCV(dtree_tuned, parameters, scoring=scorer,cv=5)\n",
    "grid_obj = grid_obj.fit(X_train, y_train)\n",
    "\n",
    "# Set the clf to the best combination of parameters\n",
    "dtree_tuned = grid_obj.best_estimator_\n",
    "\n",
    "# Fit the best algorithm to the data. \n",
    "dtree_tuned.fit(X_train, y_train)"
   ]
  },
  {
   "cell_type": "code",
   "execution_count": 102,
   "id": "a891fe82-9719-4fed-82cc-e19719535da8",
   "metadata": {},
   "outputs": [
    {
     "name": "stdout",
     "output_type": "stream",
     "text": [
      "R-sqaure on training set :  0.47857171320325786\n",
      "R-square on test set :  0.39335604097193455\n",
      "RMSE on training set :  0.3491108305710104\n",
      "RMSE on test set :  0.38260846120158354\n"
     ]
    }
   ],
   "source": [
    "dtree_tuned_score=get_model_score(dtree_tuned)"
   ]
  },
  {
   "cell_type": "code",
   "execution_count": 103,
   "id": "f980dfd6-5707-480a-b2be-a346ad5190c6",
   "metadata": {},
   "outputs": [
    {
     "name": "stdout",
     "output_type": "stream",
     "text": [
      "Accuracy on training set :  0.47857171320325786\n",
      "Accuracy on test set :  0.39335604097193455\n"
     ]
    }
   ],
   "source": [
    "dtree_tuned_acc = get_accuracy_score(dtree_tuned)"
   ]
  },
  {
   "cell_type": "markdown",
   "id": "a7738430-4b34-48eb-a0ae-2ae37bd2f111",
   "metadata": {},
   "source": [
    "**Plotting the feature importance of each variable**"
   ]
  },
  {
   "cell_type": "markdown",
   "id": "8108bbaa-f487-4d98-8371-4323ca191f27",
   "metadata": {},
   "source": [
    "### Random Forest Model"
   ]
  },
  {
   "cell_type": "code",
   "execution_count": 62,
   "id": "92ce3602-b7e6-42e6-96ea-da615e2b5b93",
   "metadata": {},
   "outputs": [
    {
     "data": {
      "text/plain": [
       "RandomForestClassifier(class_weight='balanced', random_state=1)"
      ]
     },
     "execution_count": 62,
     "metadata": {},
     "output_type": "execute_result"
    }
   ],
   "source": [
    "##Random forest\n",
    "rf = RandomForestClassifier(random_state=1,class_weight='balanced')\n",
    "rf.fit(X_train,y_train)\n"
   ]
  },
  {
   "cell_type": "code",
   "execution_count": 63,
   "id": "1a4cabc2-403d-42e1-a958-d45ec2da9f8c",
   "metadata": {},
   "outputs": [
    {
     "data": {
      "image/png": "[encoded data removed]",
      "text/plain": [
       "<Figure size 720x504 with 2 Axes>"
      ]
     },
     "metadata": {
      "needs_background": "light"
     },
     "output_type": "display_data"
    }
   ],
   "source": [
    "make_confusion_matrix(rf,y_test)"
   ]
  },
  {
   "cell_type": "code",
   "execution_count": 64,
   "id": "f59e9b0d-ffea-493d-b035-7bcc5161720a",
   "metadata": {},
   "outputs": [
    {
     "name": "stdout",
     "output_type": "stream",
     "text": [
      "R-sqaure on training set :  0.6697981403863756\n",
      "R-square on test set :  0.24142857142857144\n",
      "RMSE on training set :  0.27781506088347924\n",
      "RMSE on test set :  0.4278444196873755\n"
     ]
    },
    {
     "data": {
      "text/plain": [
       "[0.6697981403863756,\n",
       " 0.24142857142857144,\n",
       " 0.27781506088347924,\n",
       " 0.4278444196873755]"
      ]
     },
     "execution_count": 64,
     "metadata": {},
     "output_type": "execute_result"
    }
   ],
   "source": [
    "get_model_score(rf)"
   ]
  },
  {
   "cell_type": "code",
   "execution_count": 65,
   "id": "9aa93377-c2dc-457c-bd92-2b8f9bbf5b7e",
   "metadata": {},
   "outputs": [
    {
     "name": "stdout",
     "output_type": "stream",
     "text": [
      "Accuracy on training set :  0.9228187919463087\n",
      "Accuracy on test set :  0.8169491525423729\n"
     ]
    }
   ],
   "source": [
    "rf_acc = get_accuracy_score(rf)"
   ]
  },
  {
   "cell_type": "markdown",
   "id": "ebcec57e-d3e5-4f4d-9c15-9317ed7a484a",
   "metadata": {},
   "source": [
    "### Bagging Classifier"
   ]
  },
  {
   "cell_type": "code",
   "execution_count": 66,
   "id": "1e8ab1cd-61bc-42b0-bb08-124add9a3808",
   "metadata": {},
   "outputs": [
    {
     "data": {
      "text/plain": [
       "BaggingClassifier(random_state=1)"
      ]
     },
     "execution_count": 66,
     "metadata": {},
     "output_type": "execute_result"
    }
   ],
   "source": [
    "bagging = BaggingClassifier(random_state=1)\n",
    "bagging.fit(X_train,y_train)"
   ]
  },
  {
   "cell_type": "code",
   "execution_count": 67,
   "id": "3bed9389-8cee-431f-9497-75d6ebc863be",
   "metadata": {},
   "outputs": [
    {
     "data": {
      "image/png": "[encoded data removed]",
      "text/plain": [
       "<Figure size 720x504 with 2 Axes>"
      ]
     },
     "metadata": {
      "needs_background": "light"
     },
     "output_type": "display_data"
    }
   ],
   "source": [
    "make_confusion_matrix(bagging,y_test)"
   ]
  },
  {
   "cell_type": "code",
   "execution_count": 68,
   "id": "3f4011eb-28c7-4749-a59c-b76070a29a2a",
   "metadata": {},
   "outputs": [
    {
     "name": "stdout",
     "output_type": "stream",
     "text": [
      "Accuracy on training set :  0.9161073825503355\n",
      "Accuracy on test set :  0.7932203389830509\n"
     ]
    }
   ],
   "source": [
    "bagging_acc = get_accuracy_score(bagging)"
   ]
  },
  {
   "cell_type": "markdown",
   "id": "cf8a277c-a588-4691-be4c-5bd122affc6a",
   "metadata": {},
   "source": [
    "## Tuning Models"
   ]
  },
  {
   "cell_type": "markdown",
   "id": "dc3cdc89-1cd3-4746-b9ff-2ee74322509b",
   "metadata": {},
   "source": [
    "### Using GridSearch for Hypertuning Model"
   ]
  },
  {
   "cell_type": "markdown",
   "id": "cfef9dfa-fc64-4c59-8dfa-60bca653ae3f",
   "metadata": {},
   "source": [
    "* Hyperparameter tuning is also tricky in the sense that there is no direct way to calculate how a change in the\n",
    "  hyperparameter value will reduce the loss of your model, so we usually resort to experimentation. i.e we'll use Grid search\n",
    "* Grid search is a tuning technique that attempts to compute the optimum values of hyperparameters. \n",
    "* It is an exhaustive search that is performed on a the specific parameter values of a model.\n",
    "* The parameters of the estimator/model used to apply these methods are optimized by cross-validated grid-search over a parameter grid."
   ]
  },
  {
   "cell_type": "code",
   "execution_count": 70,
   "id": "9c8b68f6-a778-42fb-8237-5cc6ec44251d",
   "metadata": {},
   "outputs": [
    {
     "data": {
      "text/plain": [
       "DecisionTreeClassifier(max_depth=4, max_leaf_nodes=10,\n",
       "                       min_impurity_decrease=1e-05, min_samples_leaf=7,\n",
       "                       random_state=1)"
      ]
     },
     "execution_count": 70,
     "metadata": {},
     "output_type": "execute_result"
    }
   ],
   "source": [
    "# Choose the type of classifier. \n",
    "dtree_estimator = DecisionTreeClassifier(random_state=1)\n",
    "\n",
    "# Grid of parameters to choose from\n",
    "parameters = {'max_depth': np.arange(2,30), \n",
    "              'min_samples_leaf': [1, 2, 5, 7, 10],\n",
    "              'max_leaf_nodes' : [2, 3, 5, 10,15],\n",
    "              'min_impurity_decrease': [0.00001,0.0001,0.001,0.01,0.1]\n",
    "             }\n",
    "\n",
    "\n",
    "# Run the grid search\n",
    "grid_obj = GridSearchCV(dtree_estimator, parameters,n_jobs=-1)\n",
    "grid_obj = grid_obj.fit(X_train, y_train)\n",
    "\n",
    "# Set the clf to the best combination of parameters\n",
    "dtree_estimator = grid_obj.best_estimator_\n",
    "\n",
    "# Fit the best algorithm to the data. \n",
    "dtree_estimator.fit(X_train, y_train)"
   ]
  },
  {
   "cell_type": "code",
   "execution_count": 71,
   "id": "14fb4eff-0e6f-42d6-a9ed-283fea6d3607",
   "metadata": {},
   "outputs": [
    {
     "data": {
      "image/png": "[encoded data removed]",
      "text/plain": [
       "<Figure size 720x504 with 2 Axes>"
      ]
     },
     "metadata": {
      "needs_background": "light"
     },
     "output_type": "display_data"
    }
   ],
   "source": [
    "make_confusion_matrix(dtree_estimator,y_test)"
   ]
  },
  {
   "cell_type": "code",
   "execution_count": 72,
   "id": "625b6413-ea6a-4343-a18d-c05caffc9789",
   "metadata": {},
   "outputs": [
    {
     "name": "stdout",
     "output_type": "stream",
     "text": [
      "Accuracy on training set :  0.8187919463087249\n",
      "Accuracy on test set :  0.823728813559322\n"
     ]
    }
   ],
   "source": [
    "tuned_dtree_acc = get_accuracy_score(dtree_estimator)"
   ]
  },
  {
   "cell_type": "markdown",
   "id": "2b87a4d3-f09a-49b1-a65b-ef727abfb8ea",
   "metadata": {},
   "source": [
    "### Tuning Bagging Classifier"
   ]
  },
  {
   "cell_type": "code",
   "execution_count": 73,
   "id": "48432aa2-f3d6-489e-b0a7-5d0752efcb89",
   "metadata": {},
   "outputs": [
    {
     "data": {
      "text/plain": [
       "GridSearchCV(cv=5, estimator=BaggingClassifier(random_state=1), n_jobs=-1,\n",
       "             param_grid={'base_estimator': [DecisionTreeClassifier(random_state=1)],\n",
       "                         'max_features': [0.7, 0.8, 0.9, 1],\n",
       "                         'n_estimators': [5, 7, 15, 51, 101]})"
      ]
     },
     "execution_count": 73,
     "metadata": {},
     "output_type": "execute_result"
    }
   ],
   "source": [
    "# grid search for bagging classifier\n",
    "cl1 = DecisionTreeClassifier(random_state=1)\n",
    "param_grid = {'base_estimator':[cl1],\n",
    "              'n_estimators':[5,7,15,51,101],\n",
    "              'max_features': [0.7,0.8,0.9,1]\n",
    "             }\n",
    "\n",
    "grid = GridSearchCV(BaggingClassifier(random_state=1,bootstrap=True), param_grid=param_grid, cv = 5,n_jobs=-1)\n",
    "grid.fit(X_train, y_train)"
   ]
  },
  {
   "cell_type": "code",
   "execution_count": 74,
   "id": "bd7cb582-9643-4679-89be-435b8dd86d19",
   "metadata": {},
   "outputs": [
    {
     "data": {
      "text/plain": [
       "BaggingClassifier(base_estimator=DecisionTreeClassifier(random_state=1),\n",
       "                  max_features=0.7, n_estimators=101, random_state=1)"
      ]
     },
     "execution_count": 74,
     "metadata": {},
     "output_type": "execute_result"
    }
   ],
   "source": [
    "## getting the best estimator\n",
    "bagging_estimator  = grid.best_estimator_\n",
    "bagging_estimator.fit(X_train,y_train)"
   ]
  },
  {
   "cell_type": "code",
   "execution_count": 75,
   "id": "a4202c79-7633-424e-b175-5c5d4935070a",
   "metadata": {},
   "outputs": [
    {
     "data": {
      "image/png": "[encoded data removed]",
      "text/plain": [
       "<Figure size 720x504 with 2 Axes>"
      ]
     },
     "metadata": {
      "needs_background": "light"
     },
     "output_type": "display_data"
    }
   ],
   "source": [
    "make_confusion_matrix(bagging_estimator,y_test)"
   ]
  },
  {
   "cell_type": "code",
   "execution_count": 76,
   "id": "7ee92744-9e65-48e1-b7cc-4ad17a02464d",
   "metadata": {},
   "outputs": [
    {
     "name": "stdout",
     "output_type": "stream",
     "text": [
      "Accuracy on training set :  0.8926174496644296\n",
      "Accuracy on test set :  0.8033898305084746\n"
     ]
    }
   ],
   "source": [
    "tuned_bagging_acc= get_accuracy_score(bagging_estimator)"
   ]
  },
  {
   "cell_type": "markdown",
   "id": "810571a9-9806-41c6-90b4-2403092b90e5",
   "metadata": {},
   "source": [
    "### Gradient Boosting Classifier"
   ]
  },
  {
   "cell_type": "code",
   "execution_count": 83,
   "id": "6e02bbba-e172-4035-91ab-df24ef380ec4",
   "metadata": {},
   "outputs": [
    {
     "data": {
      "text/plain": [
       "GradientBoostingClassifier(random_state=1)"
      ]
     },
     "execution_count": 83,
     "metadata": {},
     "output_type": "execute_result"
    }
   ],
   "source": [
    "    gbc = GradientBoostingClassifier(random_state=1)\n",
    "gbc.fit(X_train,y_train)"
   ]
  },
  {
   "cell_type": "code",
   "execution_count": 84,
   "id": "c875c958-b3ee-4597-9408-61f12b96720e",
   "metadata": {},
   "outputs": [
    {
     "data": {
      "image/png": "[encoded data removed]",
      "text/plain": [
       "<Figure size 720x504 with 2 Axes>"
      ]
     },
     "metadata": {
      "needs_background": "light"
     },
     "output_type": "display_data"
    }
   ],
   "source": [
    "make_confusion_matrix(gbc,y_test)"
   ]
  },
  {
   "cell_type": "code",
   "execution_count": 85,
   "id": "120bd8b3-3e6b-4a1e-96f7-730bba8d40c8",
   "metadata": {},
   "outputs": [
    {
     "name": "stdout",
     "output_type": "stream",
     "text": [
      "Accuracy on training set :  0.8808724832214765\n",
      "Accuracy on test set :  0.8372881355932204\n"
     ]
    }
   ],
   "source": [
    "#Using above defined function to get accuracy on train and test set\n",
    "gbm_acc = get_accuracy_score(gbc)"
   ]
  },
  {
   "cell_type": "markdown",
   "id": "168bebf6-7eaf-4cb4-982b-f53def58467c",
   "metadata": {},
   "source": [
    "### XGBoost Classifier"
   ]
  },
  {
   "cell_type": "code",
   "execution_count": 86,
   "id": "037713fe-6ccc-4065-b2f1-f8367cc3b1dc",
   "metadata": {},
   "outputs": [],
   "source": [
    "# Choose the type of classifier. \n",
    "xgb_tuned = XGBClassifier(random_state=1,eval_metric='logloss')\n",
    "\n",
    "# Grid of parameters to choose from\n",
    "## add from\n",
    "parameters = {\n",
    "    \"n_estimators\": np.arange(30,100,20),\n",
    "    \"subsample\":[0.5,0.7,1],\n",
    "    \"learning_rate\":[0.001,0.01,0.05,0.1],\n",
    "    \"colsample_bytree\":[0.5,0.7,1],\n",
    "    \"colsample_bylevel\":[0.5,0.7,1]\n",
    "}\n",
    "\n",
    "# Type of scoring used to compare parameter combinations\n",
    "\n",
    "# Run the grid search\n",
    "grid_obj = GridSearchCV(xgb_tuned, parameters,cv=5)\n",
    "grid_obj = grid_obj.fit(X_train, y_train)"
   ]
  },
  {
   "cell_type": "code",
   "execution_count": 87,
   "id": "926b0c4c-0290-4606-8e44-ad012fb06f4e",
   "metadata": {},
   "outputs": [
    {
     "data": {
      "text/plain": [
       "XGBClassifier(base_score=0.5, booster='gbtree', callbacks=None,\n",
       "              colsample_bylevel=1, colsample_bynode=1, colsample_bytree=0.5,\n",
       "              early_stopping_rounds=None, enable_categorical=False,\n",
       "              eval_metric='logloss', gamma=0, gpu_id=-1,\n",
       "              grow_policy='depthwise', importance_type=None,\n",
       "              interaction_constraints='', learning_rate=0.1, max_bin=256,\n",
       "              max_cat_to_onehot=4, max_delta_step=0, max_depth=6, max_leaves=0,\n",
       "              min_child_weight=1, missing=nan, monotone_constraints='()',\n",
       "              n_estimators=50, n_jobs=0, num_parallel_tree=1, predictor='auto',\n",
       "              random_state=1, reg_alpha=0, reg_lambda=1, ...)"
      ]
     },
     "execution_count": 87,
     "metadata": {},
     "output_type": "execute_result"
    }
   ],
   "source": [
    "# Set the clf to the best combination of parameters\n",
    "xgb_tuned = grid_obj.best_estimator_\n",
    "\n",
    "# Fit the best algorithm to the data.\n",
    "xgb_tuned.fit(X_train, y_train)"
   ]
  },
  {
   "cell_type": "code",
   "execution_count": 88,
   "id": "20143d71-6172-4a42-bdda-119be9c80677",
   "metadata": {},
   "outputs": [
    {
     "data": {
      "image/png": "[encoded data removed]",
      "text/plain": [
       "<Figure size 720x504 with 2 Axes>"
      ]
     },
     "metadata": {
      "needs_background": "light"
     },
     "output_type": "display_data"
    }
   ],
   "source": [
    "make_confusion_matrix(xgb_tuned,y_test)"
   ]
  },
  {
   "cell_type": "code",
   "execution_count": 89,
   "id": "f775f322-4307-4f95-b832-428e073ac25d",
   "metadata": {},
   "outputs": [
    {
     "name": "stdout",
     "output_type": "stream",
     "text": [
      "Accuracy on training set :  0.8456375838926175\n",
      "Accuracy on test set :  0.8271186440677966\n"
     ]
    }
   ],
   "source": [
    "#Using above defined function to get accuracy on train and test set\n",
    "tuned_xgb_acc = get_accuracy_score(xgb_tuned)"
   ]
  },
  {
   "cell_type": "markdown",
   "id": "8d487282-6c24-4480-9403-7956c37fc391",
   "metadata": {},
   "source": [
    "### Adaboost Classifier"
   ]
  },
  {
   "cell_type": "code",
   "execution_count": 90,
   "id": "1ec2d842-8d11-446a-96f8-744bb38babc8",
   "metadata": {},
   "outputs": [
    {
     "data": {
      "text/plain": [
       "AdaBoostClassifier(base_estimator=DecisionTreeClassifier(max_depth=3),\n",
       "                   learning_rate=0.1, n_estimators=40, random_state=1)"
      ]
     },
     "execution_count": 90,
     "metadata": {},
     "output_type": "execute_result"
    }
   ],
   "source": [
    "# Choose the type of classifier. \n",
    "abc_tuned = AdaBoostClassifier(random_state=1)\n",
    "\n",
    "# Grid of parameters to choose from\n",
    "## add from article\n",
    "parameters = {\n",
    "    #Let's try different max_depth for base_estimator\n",
    "    \"base_estimator\":[DecisionTreeClassifier(max_depth=1),DecisionTreeClassifier(max_depth=2),DecisionTreeClassifier(max_depth=3)],\n",
    "    \"n_estimators\": np.arange(10,110,10),\n",
    "    \"learning_rate\":np.arange(0.1,1,0.1)\n",
    "}\n",
    "\n",
    "# Run the grid search\n",
    "grid_obj = GridSearchCV(abc_tuned, parameters,cv=5)\n",
    "grid_obj = grid_obj.fit(X_train, y_train)\n",
    "\n",
    "# Set the clf to the best combination of parameters\n",
    "abc_tuned = grid_obj.best_estimator_\n",
    "\n",
    "# Fit the best algorithm to the data.\n",
    "abc_tuned.fit(X_train, y_train)"
   ]
  },
  {
   "cell_type": "code",
   "execution_count": 91,
   "id": "1fe07ee9-2805-4249-9e9d-124ad95d7616",
   "metadata": {},
   "outputs": [
    {
     "data": {
      "image/png": "[encoded data removed]",
      "text/plain": [
       "<Figure size 720x504 with 2 Axes>"
      ]
     },
     "metadata": {
      "needs_background": "light"
     },
     "output_type": "display_data"
    }
   ],
   "source": [
    "make_confusion_matrix(abc_tuned,y_test)"
   ]
  },
  {
   "cell_type": "code",
   "execution_count": 93,
   "id": "21663731-12ed-4484-a5fb-4a88480cb34c",
   "metadata": {},
   "outputs": [
    {
     "name": "stdout",
     "output_type": "stream",
     "text": [
      "Accuracy on training set :  0.860738255033557\n",
      "Accuracy on test set :  0.823728813559322\n"
     ]
    }
   ],
   "source": [
    "#Using above defined function to get accuracy on train and test set\n",
    "tuned_abc_acc = get_accuracy_score(abc_tuned)"
   ]
  },
  {
   "cell_type": "markdown",
   "id": "a0795f5b-ef69-4c4d-86dc-f21b04cc4a79",
   "metadata": {},
   "source": [
    "### Comparing All Models"
   ]
  },
  {
   "cell_type": "code",
   "execution_count": 104,
   "id": "8e86a3a6-5219-4519-9e12-931086efb126",
   "metadata": {},
   "outputs": [],
   "source": [
    "# defining list of models\n",
    "models = [dtree,dtree_tuned,dtree_estimator,bagging,rf,gbc,xgb_tuned,abc_tuned]\n",
    "# defining empty lists to add train and test results\n",
    "acc_train = []\n",
    "acc_test = []\n",
    "\n",
    "# looping through all the models to get the accuracy,recall and precision scores\n",
    "for model in models:\n",
    "    # accuracy score\n",
    "    j = get_accuracy_score(model,False)\n",
    "    acc_train.append(j[0])\n",
    "    acc_test.append(j[1])"
   ]
  },
  {
   "cell_type": "code",
   "execution_count": 105,
   "id": "97f2bf73-276e-415f-a78a-e22232b5e442",
   "metadata": {},
   "outputs": [
    {
     "data": {
      "text/html": [
       "<div>\n",
       "<style scoped>\n",
       "    .dataframe tbody tr th:only-of-type {\n",
       "        vertical-align: middle;\n",
       "    }\n",
       "\n",
       "    .dataframe tbody tr th {\n",
       "        vertical-align: top;\n",
       "    }\n",
       "\n",
       "    .dataframe thead th {\n",
       "        text-align: right;\n",
       "    }\n",
       "</style>\n",
       "<table border=\"1\" class=\"dataframe\">\n",
       "  <thead>\n",
       "    <tr style=\"text-align: right;\">\n",
       "      <th></th>\n",
       "      <th>Model</th>\n",
       "      <th>Train_Accuracy</th>\n",
       "      <th>Test_Accuracy</th>\n",
       "    </tr>\n",
       "  </thead>\n",
       "  <tbody>\n",
       "    <tr>\n",
       "      <th>0</th>\n",
       "      <td>Decision Tree</td>\n",
       "      <td>0.780775</td>\n",
       "      <td>0.081169</td>\n",
       "    </tr>\n",
       "    <tr>\n",
       "      <th>1</th>\n",
       "      <td>Tuned Decision Tree</td>\n",
       "      <td>0.478572</td>\n",
       "      <td>0.393356</td>\n",
       "    </tr>\n",
       "    <tr>\n",
       "      <th>2</th>\n",
       "      <td>Decision Tree Estimator</td>\n",
       "      <td>0.818792</td>\n",
       "      <td>0.823729</td>\n",
       "    </tr>\n",
       "    <tr>\n",
       "      <th>3</th>\n",
       "      <td>Bagging Estimator</td>\n",
       "      <td>0.916107</td>\n",
       "      <td>0.793220</td>\n",
       "    </tr>\n",
       "    <tr>\n",
       "      <th>4</th>\n",
       "      <td>Random Forest</td>\n",
       "      <td>0.922819</td>\n",
       "      <td>0.816949</td>\n",
       "    </tr>\n",
       "    <tr>\n",
       "      <th>5</th>\n",
       "      <td>Gradient Boosting Classifier</td>\n",
       "      <td>0.880872</td>\n",
       "      <td>0.837288</td>\n",
       "    </tr>\n",
       "    <tr>\n",
       "      <th>6</th>\n",
       "      <td>XGBoost Classifier</td>\n",
       "      <td>0.845638</td>\n",
       "      <td>0.827119</td>\n",
       "    </tr>\n",
       "    <tr>\n",
       "      <th>7</th>\n",
       "      <td>Adaboost Classifier</td>\n",
       "      <td>0.860738</td>\n",
       "      <td>0.823729</td>\n",
       "    </tr>\n",
       "  </tbody>\n",
       "</table>\n",
       "</div>"
      ],
      "text/plain": [
       "                          Model  Train_Accuracy  Test_Accuracy\n",
       "0                 Decision Tree        0.780775       0.081169\n",
       "1           Tuned Decision Tree        0.478572       0.393356\n",
       "2       Decision Tree Estimator        0.818792       0.823729\n",
       "3             Bagging Estimator        0.916107       0.793220\n",
       "4                 Random Forest        0.922819       0.816949\n",
       "5  Gradient Boosting Classifier        0.880872       0.837288\n",
       "6            XGBoost Classifier        0.845638       0.827119\n",
       "7           Adaboost Classifier        0.860738       0.823729"
      ]
     },
     "execution_count": 105,
     "metadata": {},
     "output_type": "execute_result"
    }
   ],
   "source": [
    "comparison_frame = pd.DataFrame({'Model':['Decision Tree','Tuned Decision Tree','Decision Tree Estimator',\n",
    "                                          'Bagging Estimator','Random Forest','Gradient Boosting Classifier',\n",
    "                                          'XGBoost Classifier','Adaboost Classifier'], \n",
    "                                          'Train_Accuracy': acc_train,\n",
    "                                          'Test_Accuracy': acc_test}) \n",
    "comparison_frame"
   ]
  },
  {
   "cell_type": "markdown",
   "id": "480d3eef-61ce-4e13-a478-0534170a18da",
   "metadata": {},
   "source": [
    "### Feature importance of Random Forest"
   ]
  },
  {
   "cell_type": "code",
   "execution_count": 112,
   "id": "369c42a7-fc1d-4097-9e36-7f32add3a062",
   "metadata": {},
   "outputs": [
    {
     "data": {
      "image/png": "[encoded data removed]",
      "text/plain": [
       "<Figure size 720x504 with 1 Axes>"
      ]
     },
     "metadata": {
      "needs_background": "light"
     },
     "output_type": "display_data"
    }
   ],
   "source": [
    "feature_names = X_train.columns\n",
    "importances = rf.feature_importances_\n",
    "indices = np.argsort(importances)\n",
    "\n",
    "plt.figure(figsize=(10,7))\n",
    "plt.title('Feature Importances')\n",
    "plt.barh(range(len(indices)), importances[indices], color='violet', align='center')\n",
    "plt.yticks(range(len(indices)), [feature_names[i] for i in indices])\n",
    "plt.xlabel('Relative Importance')\n",
    "plt.show()"
   ]
  },
  {
   "cell_type": "code",
   "execution_count": 106,
   "id": "0dd31556-31de-4a25-898e-a449aabfb91a",
   "metadata": {},
   "outputs": [
    {
     "data": {
      "text/html": [
       "<div>\n",
       "<style scoped>\n",
       "    .dataframe tbody tr th:only-of-type {\n",
       "        vertical-align: middle;\n",
       "    }\n",
       "\n",
       "    .dataframe tbody tr th {\n",
       "        vertical-align: top;\n",
       "    }\n",
       "\n",
       "    .dataframe thead th {\n",
       "        text-align: right;\n",
       "    }\n",
       "</style>\n",
       "<table border=\"1\" class=\"dataframe\">\n",
       "  <thead>\n",
       "    <tr style=\"text-align: right;\">\n",
       "      <th></th>\n",
       "      <th>PassengerId</th>\n",
       "      <th>Survived</th>\n",
       "    </tr>\n",
       "  </thead>\n",
       "  <tbody>\n",
       "    <tr>\n",
       "      <th>0</th>\n",
       "      <td>892</td>\n",
       "      <td>0</td>\n",
       "    </tr>\n",
       "    <tr>\n",
       "      <th>1</th>\n",
       "      <td>893</td>\n",
       "      <td>0</td>\n",
       "    </tr>\n",
       "    <tr>\n",
       "      <th>2</th>\n",
       "      <td>894</td>\n",
       "      <td>1</td>\n",
       "    </tr>\n",
       "    <tr>\n",
       "      <th>3</th>\n",
       "      <td>895</td>\n",
       "      <td>1</td>\n",
       "    </tr>\n",
       "    <tr>\n",
       "      <th>4</th>\n",
       "      <td>896</td>\n",
       "      <td>1</td>\n",
       "    </tr>\n",
       "    <tr>\n",
       "      <th>...</th>\n",
       "      <td>...</td>\n",
       "      <td>...</td>\n",
       "    </tr>\n",
       "    <tr>\n",
       "      <th>413</th>\n",
       "      <td>1305</td>\n",
       "      <td>0</td>\n",
       "    </tr>\n",
       "    <tr>\n",
       "      <th>414</th>\n",
       "      <td>1306</td>\n",
       "      <td>1</td>\n",
       "    </tr>\n",
       "    <tr>\n",
       "      <th>415</th>\n",
       "      <td>1307</td>\n",
       "      <td>0</td>\n",
       "    </tr>\n",
       "    <tr>\n",
       "      <th>416</th>\n",
       "      <td>1308</td>\n",
       "      <td>0</td>\n",
       "    </tr>\n",
       "    <tr>\n",
       "      <th>417</th>\n",
       "      <td>1309</td>\n",
       "      <td>0</td>\n",
       "    </tr>\n",
       "  </tbody>\n",
       "</table>\n",
       "<p>418 rows × 2 columns</p>\n",
       "</div>"
      ],
      "text/plain": [
       "     PassengerId  Survived\n",
       "0            892         0\n",
       "1            893         0\n",
       "2            894         1\n",
       "3            895         1\n",
       "4            896         1\n",
       "..           ...       ...\n",
       "413         1305         0\n",
       "414         1306         1\n",
       "415         1307         0\n",
       "416         1308         0\n",
       "417         1309         0\n",
       "\n",
       "[418 rows x 2 columns]"
      ]
     },
     "metadata": {},
     "output_type": "display_data"
    }
   ],
   "source": [
    "ans = rf.predict(X_tst)\n",
    "submission = pd.DataFrame({\"PassengerId\": test_data['PassengerId'],\n",
    "                           \"Survived\": ans}\n",
    "                          )\n",
    "display(submission)\n",
    "submission.to_csv('gender_submission.csv', index=False)"
   ]
  },
  {
   "cell_type": "code",
   "execution_count": null,
   "id": "0fc50685-2107-479f-b38b-6a7bae600663",
   "metadata": {},
   "outputs": [],
   "source": []
  }
 ],
 "metadata": {
  "kernelspec": {
   "display_name": "Python 3 (ipykernel)",
   "language": "python",
   "name": "python3"
  },
  "language_info": {
   "codemirror_mode": {
    "name": "ipython",
    "version": 3
   },
   "file_extension": ".py",
   "mimetype": "text/x-python",
   "name": "python",
   "nbconvert_exporter": "python",
   "pygments_lexer": "ipython3",
   "version": "3.10.2"
  }
 },
 "nbformat": 4,
 "nbformat_minor": 5
}
